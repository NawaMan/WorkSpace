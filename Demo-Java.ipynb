{
 "cells": [
  {
   "cell_type": "code",
   "execution_count": 1,
   "id": "aa710db0-2d3d-4fbe-9bd9-0005d4619441",
   "metadata": {
    "vscode": {
     "languageId": "java"
    }
   },
   "outputs": [
    {
     "name": "stdout",
     "output_type": "stream",
     "text": [
      "Hello world!\n"
     ]
    }
   ],
   "source": [
    "System.out.println(\"Hello world!\");"
   ]
  },
  {
   "cell_type": "code",
   "execution_count": 2,
   "id": "c90506ed-f286-4ca5-83aa-8a20f69635c3",
   "metadata": {
    "vscode": {
     "languageId": "java"
    }
   },
   "outputs": [
    {
     "name": "stdout",
     "output_type": "stream",
     "text": [
      "Now: Tue Sep 30 02:53:30 UTC 2025\n"
     ]
    }
   ],
   "source": [
    "import java.util.*;\n",
    "System.out.println(\"Now: \" + new Date());"
   ]
  }
 ],
 "metadata": {
  "kernelspec": {
   "display_name": "Java (JDK 25)",
   "language": "java",
   "name": "java"
  },
  "language_info": {
   "codemirror_mode": "java",
   "file_extension": ".jshell",
   "mimetype": "text/x-java-source",
   "name": "Java",
   "pygments_lexer": "java",
   "version": "25+36-LTS"
  }
 },
 "nbformat": 4,
 "nbformat_minor": 5
}
