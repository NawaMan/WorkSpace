{
 "cells": [
  {
   "cell_type": "code",
   "execution_count": 1,
   "id": "aa710db0-2d3d-4fbe-9bd9-0005d4619441",
   "metadata": {},
   "outputs": [
    {
     "ename": "NameError",
     "evalue": "name 'System' is not defined",
     "output_type": "error",
     "traceback": [
      "\u001b[31m---------------------------------------------------------------------------\u001b[39m",
      "\u001b[31mNameError\u001b[39m                                 Traceback (most recent call last)",
      "\u001b[36mCell\u001b[39m\u001b[36m \u001b[39m\u001b[32mIn[1]\u001b[39m\u001b[32m, line 1\u001b[39m\n\u001b[32m----> \u001b[39m\u001b[32m1\u001b[39m \u001b[43mSystem\u001b[49m.out.println(\u001b[33m\"\u001b[39m\u001b[33mHello world!\u001b[39m\u001b[33m\"\u001b[39m);\n",
      "\u001b[31mNameError\u001b[39m: name 'System' is not defined"
     ]
    }
   ],
   "source": [
    "System.out.println(\"Hello world!\");"
   ]
  },
  {
   "cell_type": "code",
   "execution_count": null,
   "id": "c90506ed-f286-4ca5-83aa-8a20f69635c3",
   "metadata": {},
   "outputs": [],
   "source": [
    "import java.util.*;\n",
    "System.out.println(\"Now: \" + new Date());"
   ]
  }
 ],
 "metadata": {
  "kernelspec": {
   "display_name": "Java (JDK 25)",
   "language": "java",
   "name": "java"
  },
  "language_info": {
   "codemirror_mode": "java",
   "file_extension": ".jshell",
   "mimetype": "text/x-java-source",
   "name": "Java",
   "pygments_lexer": "java",
   "version": "25+36-LTS"
  }
 },
 "nbformat": 4,
 "nbformat_minor": 5
}
