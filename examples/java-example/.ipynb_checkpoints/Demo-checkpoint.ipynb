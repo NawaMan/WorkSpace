{
 "cells": [
  {
   "cell_type": "code",
   "execution_count": 1,
   "id": "a8fc9768-14db-4e0f-8225-b1e00132225d",
   "metadata": {},
   "outputs": [
    {
     "name": "stdout",
     "output_type": "stream",
     "text": [
      "Java Version: 25\n"
     ]
    }
   ],
   "source": [
    "System.out.println(\"Java Version: \" + System.getProperty(\"java.version\"));"
   ]
  },
  {
   "cell_type": "code",
   "execution_count": 2,
   "id": "c5b53b54-6955-40a9-90a8-bb85d360cafa",
   "metadata": {
    "scrolled": true
   },
   "outputs": [
    {
     "name": "stdout",
     "output_type": "stream",
     "text": [
      "/opt/eclipse-java-2025-09\n",
      "/opt/eclipse -> /opt/eclipse-java-2025-09\n",
      "/opt/maven-stable -> /opt/maven/maven-3.9.11\n",
      "/opt/maven\n",
      "/opt/ijava\n",
      "/opt/jbang-cache\n",
      "/opt/jbang-home\n",
      "/opt/jdk-25-temurin -> /opt/jbang-cache/jdks/25\n",
      "/opt/jdk25 -> /opt/jbang-cache/jdks/25\n",
      "/opt/jdk -> /opt/jbang-cache/jdks/25\n",
      "/opt/jdk24 -> /opt/jbang-cache/jdks/24\n",
      "/opt/jdk-24-temurin -> /opt/jbang-cache/jdks/24\n",
      "/opt/jdk-23-temurin -> /opt/jbang-cache/jdks/23\n",
      "/opt/jdk23 -> /opt/jbang-cache/jdks/23\n",
      "/opt/jdk22 -> /opt/jbang-cache/jdks/22\n",
      "/opt/jdk-22-temurin -> /opt/jbang-cache/jdks/22\n",
      "/opt/jdk21 -> /opt/jbang-cache/jdks/21\n",
      "/opt/jdk-21-temurin -> /opt/jbang-cache/jdks/21\n",
      "/opt/jdk20 -> /opt/jbang-cache/jdks/20\n",
      "/opt/jdk-20-temurin -> /opt/jbang-cache/jdks/20\n",
      "/opt/jdk-19-temurin -> /opt/jbang-cache/jdks/19\n",
      "/opt/jdk19 -> /opt/jbang-cache/jdks/19\n",
      "/opt/jdk-18-temurin -> /opt/jbang-cache/jdks/18\n",
      "/opt/jdk18 -> /opt/jbang-cache/jdks/18\n",
      "/opt/jdk-17-temurin -> /opt/jbang-cache/jdks/17\n",
      "/opt/jdk17 -> /opt/jbang-cache/jdks/17\n",
      "/opt/jdk-9-temurin -> /opt/jbang-cache/jdks/9\n",
      "/opt/jdk9 -> /opt/jbang-cache/jdks/9\n",
      "/opt/jdk-8-temurin -> /opt/jbang-cache/jdks/8\n",
      "/opt/jdk8 -> /opt/jbang-cache/jdks/8\n",
      "/opt/local-pythons\n",
      "/opt/pip-cache\n",
      "/opt/venvs\n",
      "/opt/pyenv\n",
      "/opt/python -> /opt/venvs/py3.12.12\n",
      "/opt/workspace\n"
     ]
    }
   ],
   "source": [
    "import java.io.File;\n",
    "import java.nio.file.Files;\n",
    "import java.nio.file.Path;\n",
    "\n",
    "for (var f : new File(\"/opt\").listFiles()) {\n",
    "    Path p = f.toPath();\n",
    "    if (Files.isSymbolicLink(p)) {\n",
    "        Path target = Files.readSymbolicLink(p);\n",
    "        System.out.println(f + \" -> \" + target);\n",
    "    } else {\n",
    "        System.out.println(f);\n",
    "    }\n",
    "}"
   ]
  }
 ],
 "metadata": {
  "kernelspec": {
   "display_name": "Java (25)",
   "language": "java",
   "name": "java25"
  },
  "language_info": {
   "codemirror_mode": "java",
   "file_extension": ".jshell",
   "mimetype": "text/x-java-source",
   "name": "Java",
   "pygments_lexer": "java",
   "version": "25+36-LTS"
  }
 },
 "nbformat": 4,
 "nbformat_minor": 5
}
